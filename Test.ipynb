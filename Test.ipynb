{
 "cells": [
  {
   "cell_type": "markdown",
   "metadata": {},
   "source": [
    "This is a test for Choco and Jupyter / IJava kernel."
   ]
  },
  {
   "cell_type": "code",
   "execution_count": 5,
   "metadata": {},
   "outputs": [
    {
     "name": "stdout",
     "output_type": "stream",
     "text": [
      "\n",
      " Model[test]\n",
      "\n",
      "[ 2 vars -- 1 cstrs ]\n",
      "satisfaction  : undefined\n",
      "== variables ==\n",
      "x = {1..10}\n",
      "y = {1..10}\n",
      "== constraints ==\n",
      "ARITHM ([y >= x + 1])\n",
      "\n"
     ]
    }
   ],
   "source": [
    "%maven org.choco-solver:choco-solver:4.0.8\n",
    "\n",
    "import org.chocosolver.solver.Model;\n",
    "\n",
    "// create a model\n",
    "Model model = new Model(\"test\");\n",
    "\n",
    "\n",
    "import org.chocosolver.solver.variables.IntVar;\n",
    "// declare new unknowns\n",
    "IntVar x = model.intVar(\"x\", 1,10);\n",
    "IntVar y = model.intVar(\"y\", 1,10);\n",
    "\n",
    "import org.chocosolver.solver.constraints.Constraint;\n",
    "\n",
    "// add a relation (ie, constraint) between x and y\n",
    "Constraint c1 = model.arithm(x, \"<\", y);\n",
    "c1.post(); // implicitly \"in 'model'\"\n",
    "\n",
    "System.out.println(model);"
   ]
  },
  {
   "cell_type": "markdown",
   "metadata": {},
   "source": [
    "At this time, a model is declared with two variables and one constraint.\n",
    "It is possible to check for a solution:"
   ]
  },
  {
   "cell_type": "code",
   "execution_count": 11,
   "metadata": {},
   "outputs": [],
   "source": [
    "import org.chocosolver.solver.Solver;\n",
    "import org.chocosolver.solver.Solution;\n",
    "\n",
    "Solver solver = model.getSolver();\n",
    "\n",
    "solver.streamSolutions().forEach(s -> System.out.println(s));"
   ]
  },
  {
   "cell_type": "code",
   "execution_count": null,
   "metadata": {},
   "outputs": [],
   "source": []
  }
 ],
 "metadata": {
  "kernelspec": {
   "display_name": "Java",
   "language": "java",
   "name": "java"
  },
  "language_info": {
   "codemirror_mode": "java",
   "file_extension": ".java",
   "mimetype": "text/x-java-source",
   "name": "Java",
   "pygments_lexer": "java",
   "version": "11+28"
  }
 },
 "nbformat": 4,
 "nbformat_minor": 2
}
